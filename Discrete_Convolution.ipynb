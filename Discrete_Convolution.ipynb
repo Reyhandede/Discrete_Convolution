{
  "nbformat": 4,
  "nbformat_minor": 0,
  "metadata": {
    "colab": {
      "provenance": [],
      "collapsed_sections": [],
      "toc_visible": true
    },
    "kernelspec": {
      "name": "python3",
      "display_name": "Python 3"
    },
    "language_info": {
      "name": "python"
    }
  },
  "cells": [
    {
      "cell_type": "code",
      "execution_count": null,
      "metadata": {
        "colab": {
          "base_uri": "https://localhost:8080/",
          "height": 1000
        },
        "id": "lYCJu8A3ETQI",
        "outputId": "0e1a75de-d739-4904-9c6f-bc486c92919f"
      },
      "outputs": [
        {
          "name": "stdout",
          "output_type": "stream",
          "text": [
            "Enter the length of the first sequence: 4\n",
            "Enter the start and end range of the first array: x,y : -2,1\n",
            "Enter the values ​​of the first array: -2\n",
            "Enter the values ​​of the first array: -1\n",
            "Enter the values ​​of the first array: -3\n",
            "Enter the values ​​of the first array: 2\n",
            "Enter the length of the second sequence: 4\n",
            "Enter the start and end range of the second array: x,y : 1,4\n",
            "Enter the values ​​of the second array: 5\n",
            "Enter the values ​​of the second array: 3\n",
            "Enter the values ​​of the second array: -2\n",
            "Enter the values ​​of the second array: -1\n"
          ]
        },
        {
          "output_type": "stream",
          "name": "stderr",
          "text": [
            "/usr/local/lib/python3.7/dist-packages/ipykernel_launcher.py:64: UserWarning: In Matplotlib 3.3 individual lines on a stem plot will be added as a LineCollection instead of individual lines. This significantly improves the performance of a stem plot. To remove this warning and switch to the new behaviour, set the \"use_line_collection\" keyword argument to True.\n",
            "/usr/local/lib/python3.7/dist-packages/ipykernel_launcher.py:65: UserWarning: In Matplotlib 3.3 individual lines on a stem plot will be added as a LineCollection instead of individual lines. This significantly improves the performance of a stem plot. To remove this warning and switch to the new behaviour, set the \"use_line_collection\" keyword argument to True.\n",
            "/usr/local/lib/python3.7/dist-packages/ipykernel_launcher.py:66: UserWarning: In Matplotlib 3.3 individual lines on a stem plot will be added as a LineCollection instead of individual lines. This significantly improves the performance of a stem plot. To remove this warning and switch to the new behaviour, set the \"use_line_collection\" keyword argument to True.\n",
            "/usr/local/lib/python3.7/dist-packages/ipykernel_launcher.py:67: UserWarning: In Matplotlib 3.3 individual lines on a stem plot will be added as a LineCollection instead of individual lines. This significantly improves the performance of a stem plot. To remove this warning and switch to the new behaviour, set the \"use_line_collection\" keyword argument to True.\n"
          ]
        },
        {
          "output_type": "display_data",
          "data": {
            "text/plain": [
              "<Figure size 864x864 with 4 Axes>"
            ],
            "image/png": "[encoded data removed]"
          },
          "metadata": {}
        }
      ],
      "source": [
        "import numpy as np\n",
        "import matplotlib.pyplot as plt\n",
        "\n",
        "def user_input():\n",
        "\n",
        "  len_v1=int(input(\"Enter the length of the first sequence: \"))\n",
        "  position1=input(\"Enter the start and end range of the first array: x,y : \").split(\",\")\n",
        "\n",
        "  x1,y1=int(position1[0]),int(position1[1])\n",
        "  v1=[]\n",
        "  \n",
        "  for number in range(x1,y1+1):\n",
        "    value=int(input(\"Enter the values ​​of the first array: \"))\n",
        "    v1.append(value)\n",
        "\n",
        "  len_v2=int(input(\"Enter the length of the second sequence: \"))\n",
        "  position2=input(\"Enter the start and end range of the second array: x,y : \").split(\",\")\n",
        "\n",
        "  x2,y2=int(position2[0]),int(position2[1])\n",
        "  v2=[]\n",
        "\n",
        "  for number in range(x2,y2+1):\n",
        "    value=int(input(\"Enter the values ​​of the second array: \"))\n",
        "    v2.append(value)\n",
        "  return v1,v2,len_v1,len_v2,x1,x2,y1,y2\n",
        "\n",
        "v1,v2,len_v1,len_v2,x1,x2,y1,y2=user_input()\n",
        "\n",
        "  \n",
        "def array_create():\n",
        "\n",
        "  len_conv=(len_v1 + len_v2-1)\n",
        "  m_n=[x1+x2,y1+y2]\n",
        "  m_n=np.array(range(m_n[0],m_n[1]+1))\n",
        "  return len_conv,m_n\n",
        "  \n",
        "len_conv,m_n=array_create()\n",
        "\n",
        "\n",
        "def conv_create(v1,v2,len_v1,len_v2,len_conv):\n",
        "\n",
        "  result = np.convolve(v1, v2)\n",
        "  conv = np.zeros(len_conv)\n",
        "  for number in range(0,len_conv):\n",
        "    conv[number] = 0\n",
        "    for number2 in range(0,len_v1):\n",
        "      if ((number - number2) >= 0) & ((number - number2) < len_v2):\n",
        "        conv[number]=conv[number]+v1[number2]*v2[number-number2]\n",
        "        \n",
        "  return result,conv\n",
        " \n",
        "result,conv=conv_create(v1,v2,len_v1,len_v2,len_conv)\n",
        "\n",
        "\n",
        "def plot_create(v1,v2,result,conv,m_n,x1,x2,y1,y2):\n",
        "\n",
        "  x=range(x1,y1+1)\n",
        "  x=np.array(x)\n",
        "  y=range(x2,y2+1)\n",
        "  y=np.array(y)\n",
        "\n",
        "  fig,axs = plt.subplots(2, 2 , figsize=(12,12))\n",
        "\n",
        "  ax=axs[0][0].stem(x,v1)\n",
        "  ax=axs[0][1].stem(y,v2)\n",
        "  ax=axs[1][0].stem(m_n,result)\n",
        "  ax=axs[1][1].stem(m_n,conv)   \n",
        "\n",
        "  plt.show()\n",
        "\n",
        "\n",
        "plot_create(v1,v2,result,conv,m_n,x1,x2,y1,y2)\n"
      ]
    }
  ]
}